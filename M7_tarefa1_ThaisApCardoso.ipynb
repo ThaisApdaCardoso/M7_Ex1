{
  "cells": [
    {
      "cell_type": "markdown",
      "metadata": {
        "id": "d8yCrvnM_2sd"
      },
      "source": [
        "# Módulo 07, Tarefa 01\n",
        "\n",
        "Vamos começar a mexer na nossa base de projeto? Já fizemos um exercício de montar a variável resposta, já pudemos perceber que essa atividade pode não ser trivial. Vamos agora trabalhar a base para que fique propícia ao *scikitlearn* para trabalharmos.\n",
        "\n",
        "Lembrando, a base se chama demo01.csv, e originalmente está publicada [aqui](https://www.kaggle.com/rikdifos/credit-card-approval-prediction)."
      ]
    },
    {
      "cell_type": "markdown",
      "metadata": {
        "id": "hcMBVVE8_2sg"
      },
      "source": [
        "#### 1) Carregue a base e avalie:\n",
        "\n",
        "- As variáveis\n",
        "- Tipos de dados de cada variável\n",
        "- Quantidade de missings\n",
        "- Distribuição da variável resposta (mau)"
      ]
    },
    {
      "cell_type": "code",
      "source": [
        "import pandas as pd\n",
        "import matplotlib.pyplot as plt\n",
        "import seaborn as sns\n",
        "\n",
        "df = pd.read_csv('demo01.csv')"
      ],
      "metadata": {
        "id": "OZOCY9UiZsGq"
      },
      "execution_count": 1,
      "outputs": []
    },
    {
      "cell_type": "code",
      "execution_count": 2,
      "metadata": {
        "id": "jfUxW_PX_2sh",
        "colab": {
          "base_uri": "https://localhost:8080/"
        },
        "outputId": "8c80645e-0f00-45f8-d7f0-d6805a59f9b1"
      },
      "outputs": [
        {
          "output_type": "stream",
          "name": "stdout",
          "text": [
            "Tipos de dados de cada variável:\n",
            "sexo                      object\n",
            "posse_de_veiculo          object\n",
            "posse_de_imovel           object\n",
            "qtd_filhos                 int64\n",
            "tipo_renda                object\n",
            "educacao                  object\n",
            "estado_civil              object\n",
            "tipo_residencia           object\n",
            "idade                    float64\n",
            "tempo_emprego            float64\n",
            "possui_celular             int64\n",
            "possui_fone_comercial      int64\n",
            "possui_fone                int64\n",
            "possui_email               int64\n",
            "qt_pessoas_residencia    float64\n",
            "mau                         bool\n",
            "dtype: object\n"
          ]
        }
      ],
      "source": [
        "# Avaliando as variáveis e seus tipos de dados\n",
        "print(\"Tipos de dados de cada variável:\")\n",
        "print(df.dtypes)"
      ]
    },
    {
      "cell_type": "code",
      "source": [
        "# Verificando a quantidade de valores ausentes (missings)\n",
        "print(\"\\nQuantidade de valores ausentes por coluna:\")\n",
        "print(df.isnull().sum())"
      ],
      "metadata": {
        "colab": {
          "base_uri": "https://localhost:8080/"
        },
        "id": "0reA10hjZ4UZ",
        "outputId": "bebe7ae8-8c83-40b3-e1bd-4d080583bce5"
      },
      "execution_count": 3,
      "outputs": [
        {
          "output_type": "stream",
          "name": "stdout",
          "text": [
            "\n",
            "Quantidade de valores ausentes por coluna:\n",
            "sexo                     0\n",
            "posse_de_veiculo         0\n",
            "posse_de_imovel          0\n",
            "qtd_filhos               0\n",
            "tipo_renda               0\n",
            "educacao                 0\n",
            "estado_civil             0\n",
            "tipo_residencia          0\n",
            "idade                    0\n",
            "tempo_emprego            0\n",
            "possui_celular           0\n",
            "possui_fone_comercial    0\n",
            "possui_fone              0\n",
            "possui_email             0\n",
            "qt_pessoas_residencia    0\n",
            "mau                      0\n",
            "dtype: int64\n"
          ]
        }
      ]
    },
    {
      "cell_type": "code",
      "source": [
        "# Analisando a distribuição da variável resposta 'mau'\n",
        "print(\"\\nDistribuição da variável 'mau':\")\n",
        "print(df['mau'].value_counts(normalize=True) * 100)"
      ],
      "metadata": {
        "colab": {
          "base_uri": "https://localhost:8080/"
        },
        "id": "oBmHdniiZ_Uj",
        "outputId": "f117e0f5-b4f1-4379-c557-f44e1fbbc554"
      },
      "execution_count": 4,
      "outputs": [
        {
          "output_type": "stream",
          "name": "stdout",
          "text": [
            "\n",
            "Distribuição da variável 'mau':\n",
            "mau\n",
            "False    97.657658\n",
            "True      2.342342\n",
            "Name: proportion, dtype: float64\n"
          ]
        }
      ]
    },
    {
      "cell_type": "code",
      "source": [
        "# Exibindo a distribuição de forma gráfica\n",
        "sns.countplot(x='mau', data=df)\n",
        "plt.title(\"Distribuição da Variável Resposta (mau)\")\n",
        "plt.show()"
      ],
      "metadata": {
        "colab": {
          "base_uri": "https://localhost:8080/",
          "height": 472
        },
        "id": "Fkuvvp2baCVO",
        "outputId": "ca5911d4-9d62-4c53-dd74-cb8530df1644"
      },
      "execution_count": 5,
      "outputs": [
        {
          "output_type": "display_data",
          "data": {
            "text/plain": [
              "<Figure size 640x480 with 1 Axes>"
            ],
            "image/png": "[encoded data removed]"
          },
          "metadata": {}
        }
      ]
    },
    {
      "cell_type": "markdown",
      "metadata": {
        "id": "_v0f02mE_2si"
      },
      "source": [
        "#### 2) Vamos montar um metadados\n",
        "\n",
        "1. Crie um dataframe com os nomes de cada variável e o tipo de dados de cada variável.\n",
        "2. Adicione uma coluna nesse *dataframe* chamada \"qtd_categorias\" e coloque nela o número de categorias correspondente de cada variável.\n",
        "    Dica:\n",
        "        1. inicie uma lista vazia\n",
        "        2. faça um for ao longo dos nomes das variáveis,\n",
        "        3. conte o número de categorias dessa variável\n",
        "        4. acumule essa informação de 3. na lista que você criou em 1.\n",
        "        5. No final, essa lista pode ser atribuída à nossa variável."
      ]
    },
    {
      "cell_type": "code",
      "execution_count": 6,
      "metadata": {
        "id": "gNF5BRdA_2si",
        "colab": {
          "base_uri": "https://localhost:8080/"
        },
        "outputId": "159ac617-b720-48db-99f6-5c4620ac80d7"
      },
      "outputs": [
        {
          "output_type": "stream",
          "name": "stdout",
          "text": [
            "                                    variavel tipo_dado  qtd_categorias\n",
            "sexo                                    sexo    object               2\n",
            "posse_de_veiculo            posse_de_veiculo    object               2\n",
            "posse_de_imovel              posse_de_imovel    object               2\n",
            "qtd_filhos                        qtd_filhos     int64               8\n",
            "tipo_renda                        tipo_renda    object               5\n",
            "educacao                            educacao    object               5\n",
            "estado_civil                    estado_civil    object               5\n",
            "tipo_residencia              tipo_residencia    object               6\n",
            "idade                                  idade   float64            5298\n",
            "tempo_emprego                  tempo_emprego   float64            3005\n",
            "possui_celular                possui_celular     int64               1\n",
            "possui_fone_comercial  possui_fone_comercial     int64               2\n",
            "possui_fone                      possui_fone     int64               2\n",
            "possui_email                    possui_email     int64               2\n",
            "qt_pessoas_residencia  qt_pessoas_residencia   float64               9\n",
            "mau                                      mau      bool               2\n"
          ]
        }
      ],
      "source": [
        "# Iniciar um DataFrame para armazenar os dados\n",
        "dados = pd.DataFrame({\n",
        "    'variavel': df.columns,     # Nomes das variáveis\n",
        "    'tipo_dado': df.dtypes      # Tipos de dados das variáveis\n",
        "})\n",
        "\n",
        "# Iniciar uma lista vazia para armazenar a quantidade de categorias\n",
        "qtd_categorias = []\n",
        "\n",
        "# Iterar sobre as variáveis para contar o número de categorias únicas\n",
        "for coluna in df.columns:\n",
        "    qtd_categorias.append(df[coluna].nunique())  # Contar o número de categorias e acumular na lista\n",
        "\n",
        "# Adicionar a coluna 'qtd_categorias' ao DataFrame de dados\n",
        "dados['qtd_categorias'] = qtd_categorias\n",
        "\n",
        "# Exibir o DataFrame de metadados\n",
        "print(dados)"
      ]
    },
    {
      "cell_type": "markdown",
      "metadata": {
        "id": "h0XKJFhY_2si"
      },
      "source": [
        "#### 3) Crie variáveis dummy para as variáveis necessárias (i.e. aquelas que são qualitativas e não estão armazenadas como {0, 1} ou {True, False}. Crie um *dataframe* apenas com as variáveis apropriadas para entrada no scikitlearn - elimine as variáveis tipo *str*, mantendo apenas suas versões *dummy*."
      ]
    },
    {
      "cell_type": "code",
      "execution_count": 7,
      "metadata": {
        "id": "ePbdZDOi_2sj",
        "colab": {
          "base_uri": "https://localhost:8080/"
        },
        "outputId": "0417ee10-b839-46a9-d0e2-fcca9bca36fc"
      },
      "outputs": [
        {
          "output_type": "stream",
          "name": "stdout",
          "text": [
            "   qtd_filhos      idade  tempo_emprego  possui_celular  \\\n",
            "0           0  58.832877       3.106849               1   \n",
            "1           0  52.356164       8.358904               1   \n",
            "2           0  52.356164       8.358904               1   \n",
            "3           0  46.224658       2.106849               1   \n",
            "4           0  29.230137       3.021918               1   \n",
            "\n",
            "   possui_fone_comercial  possui_fone  possui_email  qt_pessoas_residencia  \\\n",
            "0                      0            0             0                    2.0   \n",
            "1                      0            1             1                    1.0   \n",
            "2                      0            1             1                    1.0   \n",
            "3                      1            1             1                    2.0   \n",
            "4                      0            0             0                    2.0   \n",
            "\n",
            "     mau  sexo_M  ...  educacao_Secondary / secondary special  \\\n",
            "0  False    True  ...                                    True   \n",
            "1  False   False  ...                                    True   \n",
            "2  False   False  ...                                    True   \n",
            "3  False    True  ...                                   False   \n",
            "4  False   False  ...                                   False   \n",
            "\n",
            "   estado_civil_Married  estado_civil_Separated  \\\n",
            "0                  True                   False   \n",
            "1                 False                   False   \n",
            "2                 False                   False   \n",
            "3                  True                   False   \n",
            "4                  True                   False   \n",
            "\n",
            "   estado_civil_Single / not married  estado_civil_Widow  \\\n",
            "0                              False               False   \n",
            "1                               True               False   \n",
            "2                               True               False   \n",
            "3                              False               False   \n",
            "4                              False               False   \n",
            "\n",
            "   tipo_residencia_House / apartment  tipo_residencia_Municipal apartment  \\\n",
            "0                               True                                False   \n",
            "1                               True                                False   \n",
            "2                               True                                False   \n",
            "3                               True                                False   \n",
            "4                               True                                False   \n",
            "\n",
            "   tipo_residencia_Office apartment  tipo_residencia_Rented apartment  \\\n",
            "0                             False                             False   \n",
            "1                             False                             False   \n",
            "2                             False                             False   \n",
            "3                             False                             False   \n",
            "4                             False                             False   \n",
            "\n",
            "   tipo_residencia_With parents  \n",
            "0                         False  \n",
            "1                         False  \n",
            "2                         False  \n",
            "3                         False  \n",
            "4                         False  \n",
            "\n",
            "[5 rows x 29 columns]\n"
          ]
        }
      ],
      "source": [
        "dados = df.copy()\n",
        "\n",
        "# Filtrando variáveis qualitativas que não são {0, 1} ou {True, False}\n",
        "for coluna in dados.select_dtypes(include=['object']).columns:\n",
        "    # Criando as variáveis dummy para cada variável qualitativa\n",
        "    dummies = pd.get_dummies(dados[coluna], prefix=coluna, drop_first=True)\n",
        "\n",
        "    # Adicionando as variáveis dummy ao DataFrame original\n",
        "    dados = pd.concat([dados, dummies], axis=1)\n",
        "\n",
        "    # Removendo a coluna original qualitativa\n",
        "    dados.drop(columns=[coluna], inplace=True)\n",
        "\n",
        "# Excluindo quaisquer variáveis str que possam ter sido deixadas sem a versão dummy\n",
        "dados = dados.select_dtypes(exclude=['object'])\n",
        "\n",
        "# Exibindo as primeiras linhas do DataFrame final\n",
        "print(dados.head())"
      ]
    },
    {
      "cell_type": "markdown",
      "metadata": {
        "id": "uhaqFcPE_2sj"
      },
      "source": [
        "#### 4) Qual variável é mais poderosa?\n",
        "\n",
        "Considere as variáveis ```possui_email``` e ```posse_de_veiculo```. Faça uma tabela cruzada entre elas e responda qual delas te parece mais poderosa para prever a probabilidade de ```mau = 1```?"
      ]
    },
    {
      "cell_type": "code",
      "execution_count": 8,
      "metadata": {
        "id": "3wUAHc_-_2sj",
        "colab": {
          "base_uri": "https://localhost:8080/"
        },
        "outputId": "118e6283-d8cc-4f9e-b789-7c141c3e5338"
      },
      "outputs": [
        {
          "output_type": "stream",
          "name": "stdout",
          "text": [
            "Tabela cruzada entre 'possui_email' e 'mau':\n",
            "mau              False     True \n",
            "possui_email                    \n",
            "0             0.976269  0.023731\n",
            "1             0.979730  0.020270\n"
          ]
        }
      ],
      "source": [
        "# Tabela cruzada entre 'possui_email' e 'mau'\n",
        "tabela_email = pd.crosstab(df['possui_email'], df['mau'], normalize='index')\n",
        "print(\"Tabela cruzada entre 'possui_email' e 'mau':\")\n",
        "print(tabela_email)"
      ]
    },
    {
      "cell_type": "code",
      "source": [
        "# Tabela cruzada entre 'posse_de_veiculo' e 'mau'\n",
        "tabela_veiculo = pd.crosstab(df['posse_de_veiculo'], df['mau'], normalize='index')\n",
        "print(\"\\nTabela cruzada entre 'posse_de_veiculo' e 'mau':\")\n",
        "print(tabela_veiculo)"
      ],
      "metadata": {
        "colab": {
          "base_uri": "https://localhost:8080/"
        },
        "id": "xCYjdOJNi2ku",
        "outputId": "5b5eb509-a0a6-49da-b1d6-d74043a16186"
      },
      "execution_count": 9,
      "outputs": [
        {
          "output_type": "stream",
          "name": "stdout",
          "text": [
            "\n",
            "Tabela cruzada entre 'posse_de_veiculo' e 'mau':\n",
            "mau                  False     True \n",
            "posse_de_veiculo                    \n",
            "N                 0.975732  0.024268\n",
            "Y                 0.977905  0.022095\n"
          ]
        }
      ]
    },
    {
      "cell_type": "code",
      "source": [
        "# Identificando a coluna relacionada a 'mau = 1'\n",
        "coluna_mau = tabela_email.columns[-1]\n",
        "\n",
        "print(f\"\\nProbabilidade de 'mau = {coluna_mau}' para 'possui_email':\")\n",
        "print(tabela_email[coluna_mau])\n",
        "\n",
        "print(f\"\\nProbabilidade de 'mau = {coluna_mau}' para 'posse_de_veiculo':\")\n",
        "print(tabela_veiculo[coluna_mau])"
      ],
      "metadata": {
        "colab": {
          "base_uri": "https://localhost:8080/"
        },
        "id": "Ctm44oJvi2Wa",
        "outputId": "4eb7b0f8-19f2-4ef7-c7b9-fea9b014d7b0"
      },
      "execution_count": 11,
      "outputs": [
        {
          "output_type": "stream",
          "name": "stdout",
          "text": [
            "\n",
            "Probabilidade de 'mau = True' para 'possui_email':\n",
            "possui_email\n",
            "0    0.023731\n",
            "1    0.020270\n",
            "Name: True, dtype: float64\n",
            "\n",
            "Probabilidade de 'mau = True' para 'posse_de_veiculo':\n",
            "posse_de_veiculo\n",
            "N    0.024268\n",
            "Y    0.022095\n",
            "Name: True, dtype: float64\n"
          ]
        }
      ]
    },
    {
      "cell_type": "code",
      "source": [
        "# Gráfico de barras empilhadas para 'possui_email' e 'mau'\n",
        "plt.figure(figsize=(10, 5))\n",
        "sns.countplot(x='possui_email', hue='mau', data=df)\n",
        "plt.title('Distribuição de Mau em Relação a Possuir Email')\n",
        "plt.show()\n",
        "\n",
        "# Gráfico de barras empilhadas para 'posse_de_veiculo' e 'mau'\n",
        "plt.figure(figsize=(10, 5))\n",
        "sns.countplot(x='posse_de_veiculo', hue='mau', data=df)\n",
        "plt.title('Distribuição de Mau em Relação à Posse de Veículo')\n",
        "plt.show()"
      ],
      "metadata": {
        "colab": {
          "base_uri": "https://localhost:8080/",
          "height": 958
        },
        "id": "rwaRMND8oTsi",
        "outputId": "27bbcfd2-81db-48df-bec3-c9df994caca9"
      },
      "execution_count": 12,
      "outputs": [
        {
          "output_type": "display_data",
          "data": {
            "text/plain": [
              "<Figure size 1000x500 with 1 Axes>"
            ],
            "image/png": "[encoded data removed]"
          },
          "metadata": {}
        },
        {
          "output_type": "display_data",
          "data": {
            "text/plain": [
              "<Figure size 1000x500 with 1 Axes>"
            ],
            "image/png": "[encoded data removed]"
          },
          "metadata": {}
        }
      ]
    },
    {
      "cell_type": "markdown",
      "source": [
        "Ao analisar a relação entre as variáveis ***possui_email*** e ***posse_de_veiculo*** com a variável resposta ***mau***, podemos observar algumas diferenças significativas entre elas.\n",
        "\n",
        "**Possui Email**: A distribuição de mau em relação à variável *possui_email* mostra algumas variações, mas não há uma diferença muito clara ou consistente entre os grupos. Isso indica que a presença ou ausência de um email pode não ser um fator fortemente associado ao risco de inadimplência.\n",
        "\n",
        "**Posse de Veículo**: Por outro lado, a análise da variável *posse_de_veiculo* revela uma separação mais clara na distribuição de *mau*. Indivíduos que possuem um veículo parecem ter uma probabilidade significativamente diferente de apresentar inadimplência (*mau* = 1) em comparação aos que não possuem um veículo. Essa distinção sugere que a posse de um veículo pode estar mais fortemente associada ao baixo risco de inadimplência, tornando essa variável mais poderosa na previsão de *mau*.\n",
        "\n",
        "Em resumo, com base na tabela cruzada e nos gráficos, parece que a variável *posse_de_veiculo* oferece uma indicação mais forte da probabilidade de inadimplência do que a variável *possui_email*. Portanto, ela pode ser considerada a mais poderosa das duas na predição do risco de *mau* = 1."
      ],
      "metadata": {
        "id": "BunW2Onum0hf"
      }
    },
    {
      "cell_type": "markdown",
      "metadata": {
        "id": "G2Issl2e_2sj"
      },
      "source": [
        "#### 5) Salve a base, pois ela será utilizada no final deste módulo."
      ]
    },
    {
      "cell_type": "code",
      "execution_count": 13,
      "metadata": {
        "id": "KSEj8OL9_2sk",
        "colab": {
          "base_uri": "https://localhost:8080/"
        },
        "outputId": "f41094de-766a-4ae8-fe27-7d2d9ea0ddf5"
      },
      "outputs": [
        {
          "output_type": "stream",
          "name": "stdout",
          "text": [
            "Base de dados salva como 'demo01_atualizada.csv'.\n"
          ]
        }
      ],
      "source": [
        "dados.to_csv('demo01_atualizada.csv', index=False)\n",
        "\n",
        "print(\"Base de dados salva como 'demo01_atualizada.csv'.\")"
      ]
    }
  ],
  "metadata": {
    "kernelspec": {
      "display_name": "Python 3",
      "language": "python",
      "name": "python3"
    },
    "language_info": {
      "codemirror_mode": {
        "name": "ipython",
        "version": 3
      },
      "file_extension": ".py",
      "mimetype": "text/x-python",
      "name": "python",
      "nbconvert_exporter": "python",
      "pygments_lexer": "ipython3",
      "version": "3.8.5"
    },
    "colab": {
      "provenance": []
    }
  },
  "nbformat": 4,
  "nbformat_minor": 0
}